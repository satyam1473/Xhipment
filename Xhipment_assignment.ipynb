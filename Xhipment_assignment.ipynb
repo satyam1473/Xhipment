{
  "nbformat": 4,
  "nbformat_minor": 0,
  "metadata": {
    "colab": {
      "provenance": []
    },
    "kernelspec": {
      "name": "python3",
      "display_name": "Python 3"
    },
    "language_info": {
      "name": "python"
    }
  },
  "cells": [
    {
      "cell_type": "code",
      "execution_count": 1,
      "metadata": {
        "id": "hgVgZt8qFmeV"
      },
      "outputs": [],
      "source": [
        "import pandas as pd\n",
        "import numpy as np\n",
        "\n",
        "# Loading data from my drive and filter rows where kind is not null\n",
        "data = pd.read_csv('/content/drive/MyDrive/Data Sheet.csv') #Code created in colab. Kept data sheet in drive for ease of use.\n",
        "data = data[data['kind'].notnull()]"
      ]
    },
    {
      "cell_type": "code",
      "source": [
        "# Converting 'created_at' to datetime and extract sortable year-month format\n",
        "data['created_at'] = pd.to_datetime(data['created_at'])\n",
        "data['Year_Month'] = data['created_at'].dt.strftime('%Y-%m')\n",
        "\n",
        "# Calculating the delivery time and group by kind/products & year/Month\n",
        "data['updated_at'] = pd.to_datetime(data['updated_at'], errors='coerce')\n",
        "data['delivery_time'] = (data['updated_at'] - data['created_at']).dt.days\n",
        "\n",
        "# Group by product and Year/Month to get average and tp90 delivery time\n",
        "stats = data.groupby(['kind', 'Year_Month']).agg({'delivery_time': ['mean', lambda x: np.quantile(x, 0.9)]})\n",
        "\n",
        "# Count number of customers with at least 1 delivery per month\n",
        "num_customers = data.groupby(['Year_Month']).agg({'booking_id': 'nunique'}).values.flatten()\n",
        "num_customers2 = num_customers\n",
        "num_cus = np.concatenate((num_customers, num_customers2)) # The data array shape was 9, i wanted to repeat the numbers twice for average & tp90 delivery time. Hence i used .concatenate to tackle that issue. to match table columns.\n"
      ],
      "metadata": {
        "id": "HZAcEB_DG-ke"
      },
      "execution_count": 2,
      "outputs": []
    },
    {
      "cell_type": "code",
      "source": [
        "# formatted output DataFrame\n",
        "output_data = pd.DataFrame({\n",
        "    'Product Name': stats.index.get_level_values('kind'),\n",
        "    'Year_Month': stats.index.get_level_values('Year_Month'),\n",
        "    'Average Delivery Time (days)': stats['delivery_time']['mean'].values,\n",
        "    'tp90 Delivery Time (days)': stats['delivery_time']['<lambda_0>'].values\n",
        "})\n"
      ],
      "metadata": {
        "id": "UC5nR7LUHJCs"
      },
      "execution_count": 4,
      "outputs": []
    },
    {
      "cell_type": "code",
      "source": [
        "# Pivot the DataFrame & add a row for number of customers per month\n",
        "output_data_pivot = output_data.pivot_table(index='Product Name', columns='Year_Month', fill_value=np.nan)\n",
        "output_data_pivot.loc['No. of customers with atleast 1 delivery'] = num_cus"
      ],
      "metadata": {
        "id": "uRYzMXI-HNjN"
      },
      "execution_count": 5,
      "outputs": []
    },
    {
      "cell_type": "code",
      "source": [
        "# Sorting of columns in ascending order\n",
        "output_data_pivot = output_data_pivot.reindex(sorted(output_data_pivot.columns), axis=1)\n",
        "\n",
        "# Save to Excel file\n",
        "output_data_pivot.to_excel('Output Result.xlsx')"
      ],
      "metadata": {
        "id": "Yq2Hp1a2HUb-"
      },
      "execution_count": 6,
      "outputs": []
    },
    {
      "cell_type": "code",
      "source": [
        "# Display first few rows to check data\n",
        "print(output_data_pivot.head())"
      ],
      "metadata": {
        "colab": {
          "base_uri": "https://localhost:8080/"
        },
        "id": "0z-88R6iHeuP",
        "outputId": "42bb74bc-4b19-422e-ed8a-0bce0eb99bd1"
      },
      "execution_count": 7,
      "outputs": [
        {
          "output_type": "stream",
          "name": "stdout",
          "text": [
            "                          Average Delivery Time (days)              \\\n",
            "Year_Month                                     2023-06     2023-07   \n",
            "Product Name                                                         \n",
            "air_freight-tracking                        182.206897  152.040000   \n",
            "bonds-tracking                              102.000000   76.000000   \n",
            "dd-tracking                                  72.222222   58.928571   \n",
            "fcl-tracking                                 75.666667   78.750000   \n",
            "fcl-transloading-tracking                          NaN         NaN   \n",
            "\n",
            "                                                                        \\\n",
            "Year_Month                    2023-08    2023-09    2023-10    2023-11   \n",
            "Product Name                                                             \n",
            "air_freight-tracking       118.989011  97.768116  65.088435  65.254777   \n",
            "bonds-tracking              32.285714  26.857143   7.250000  19.000000   \n",
            "dd-tracking                 62.750000  69.300000  67.181818  54.562500   \n",
            "fcl-tracking                89.560976  83.814815  95.750000  80.000000   \n",
            "fcl-transloading-tracking         NaN        NaN        NaN        NaN   \n",
            "\n",
            "                                                            \\\n",
            "Year_Month                   2023-12    2024-01    2024-02   \n",
            "Product Name                                                 \n",
            "air_freight-tracking       57.104478  27.770992   5.794872   \n",
            "bonds-tracking             28.333333   6.000000        NaN   \n",
            "dd-tracking                45.000000  26.700000  10.800000   \n",
            "fcl-tracking               54.300000  20.000000   0.333333   \n",
            "fcl-transloading-tracking        NaN   0.000000   7.666667   \n",
            "\n",
            "                          tp90 Delivery Time (days)                          \\\n",
            "Year_Month                                  2023-06 2023-07 2023-08 2023-09   \n",
            "Product Name                                                                  \n",
            "air_freight-tracking                          234.0   178.3   169.0   139.0   \n",
            "bonds-tracking                                102.0    82.4    54.7    42.4   \n",
            "dd-tracking                                     NaN    78.3    82.0    76.0   \n",
            "fcl-tracking                                   95.9    95.0   111.0   103.0   \n",
            "fcl-transloading-tracking                       NaN     NaN     NaN     NaN   \n",
            "\n",
            "                                                                   \n",
            "Year_Month                2023-10 2023-11 2023-12 2024-01 2024-02  \n",
            "Product Name                                                       \n",
            "air_freight-tracking        107.4    88.0     NaN    39.0    11.0  \n",
            "bonds-tracking               11.8    19.0    38.4    10.8     NaN  \n",
            "dd-tracking                  79.0    58.5    51.0    36.0    12.0  \n",
            "fcl-tracking                109.0    86.6    63.1    27.8     0.8  \n",
            "fcl-transloading-tracking     NaN     NaN     NaN     0.0     9.4  \n"
          ]
        }
      ]
    }
  ]
}